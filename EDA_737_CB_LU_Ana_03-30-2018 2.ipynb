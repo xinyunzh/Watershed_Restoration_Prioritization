{
 "cells": [
  {
   "cell_type": "code",
   "execution_count": 1,
   "metadata": {
    "collapsed": true
   },
   "outputs": [],
   "source": [
    "import pandas as pd\n",
    "import numpy as np"
   ]
  },
  {
   "cell_type": "code",
   "execution_count": 9,
   "metadata": {
    "collapsed": true
   },
   "outputs": [],
   "source": [
    "df = pd.read_excel(r'CB_LU_Ana.xlsx')\n",
    "df2 = pd.read_excel(r'ANA_12DIGIT.xlsx')"
   ]
  },
  {
   "cell_type": "code",
   "execution_count": 12,
   "metadata": {},
   "outputs": [
    {
     "data": {
      "text/plain": [
       "(173, 7)"
      ]
     },
     "execution_count": 12,
     "metadata": {},
     "output_type": "execute_result"
    }
   ],
   "source": [
    "df.shape"
   ]
  },
  {
   "cell_type": "code",
   "execution_count": 4,
   "metadata": {},
   "outputs": [
    {
     "data": {
      "text/html": [
       "<div>\n",
       "<style>\n",
       "    .dataframe thead tr:only-child th {\n",
       "        text-align: right;\n",
       "    }\n",
       "\n",
       "    .dataframe thead th {\n",
       "        text-align: left;\n",
       "    }\n",
       "\n",
       "    .dataframe tbody tr th {\n",
       "        vertical-align: top;\n",
       "    }\n",
       "</style>\n",
       "<table border=\"1\" class=\"dataframe\">\n",
       "  <thead>\n",
       "    <tr style=\"text-align: right;\">\n",
       "      <th></th>\n",
       "      <th>OBJECTID</th>\n",
       "      <th>gridcode</th>\n",
       "      <th>DNR12DIG</th>\n",
       "      <th>Shape_Leng</th>\n",
       "      <th>Shape_Area</th>\n",
       "      <th>Acres</th>\n",
       "      <th>Land_Use</th>\n",
       "    </tr>\n",
       "  </thead>\n",
       "  <tbody>\n",
       "    <tr>\n",
       "      <th>0</th>\n",
       "      <td>1</td>\n",
       "      <td>1</td>\n",
       "      <td>21402050808</td>\n",
       "      <td>142674.773634</td>\n",
       "      <td>5.530583e+05</td>\n",
       "      <td>136.663680</td>\n",
       "      <td>1</td>\n",
       "    </tr>\n",
       "    <tr>\n",
       "      <th>1</th>\n",
       "      <td>2</td>\n",
       "      <td>1</td>\n",
       "      <td>21402050811</td>\n",
       "      <td>131332.592450</td>\n",
       "      <td>4.578880e+05</td>\n",
       "      <td>113.146581</td>\n",
       "      <td>1</td>\n",
       "    </tr>\n",
       "    <tr>\n",
       "      <th>2</th>\n",
       "      <td>3</td>\n",
       "      <td>1</td>\n",
       "      <td>21402050814</td>\n",
       "      <td>85184.904369</td>\n",
       "      <td>3.494063e+05</td>\n",
       "      <td>86.340186</td>\n",
       "      <td>1</td>\n",
       "    </tr>\n",
       "    <tr>\n",
       "      <th>3</th>\n",
       "      <td>4</td>\n",
       "      <td>1</td>\n",
       "      <td>21402050815</td>\n",
       "      <td>195314.624017</td>\n",
       "      <td>8.061349e+05</td>\n",
       "      <td>199.200273</td>\n",
       "      <td>1</td>\n",
       "    </tr>\n",
       "    <tr>\n",
       "      <th>4</th>\n",
       "      <td>5</td>\n",
       "      <td>1</td>\n",
       "      <td>21402050816</td>\n",
       "      <td>416478.297400</td>\n",
       "      <td>2.083684e+06</td>\n",
       "      <td>514.889435</td>\n",
       "      <td>1</td>\n",
       "    </tr>\n",
       "  </tbody>\n",
       "</table>\n",
       "</div>"
      ],
      "text/plain": [
       "   OBJECTID  gridcode     DNR12DIG     Shape_Leng    Shape_Area       Acres  \\\n",
       "0         1         1  21402050808  142674.773634  5.530583e+05  136.663680   \n",
       "1         2         1  21402050811  131332.592450  4.578880e+05  113.146581   \n",
       "2         3         1  21402050814   85184.904369  3.494063e+05   86.340186   \n",
       "3         4         1  21402050815  195314.624017  8.061349e+05  199.200273   \n",
       "4         5         1  21402050816  416478.297400  2.083684e+06  514.889435   \n",
       "\n",
       "   Land_Use  \n",
       "0         1  \n",
       "1         1  \n",
       "2         1  \n",
       "3         1  \n",
       "4         1  "
      ]
     },
     "execution_count": 4,
     "metadata": {},
     "output_type": "execute_result"
    }
   ],
   "source": [
    "df.head()"
   ]
  },
  {
   "cell_type": "code",
   "execution_count": 14,
   "metadata": {},
   "outputs": [
    {
     "data": {
      "text/plain": [
       "array([21402050824, 21402050823, 21402050821, 21402050822, 21402050826,\n",
       "       21402050818, 21402050825, 21402050816, 21402050808, 21402050814,\n",
       "       21402050809, 21402050815, 21402050811])"
      ]
     },
     "execution_count": 14,
     "metadata": {},
     "output_type": "execute_result"
    }
   ],
   "source": [
    "df2.DNR12DIG.unique()"
   ]
  },
  {
   "cell_type": "code",
   "execution_count": 21,
   "metadata": {},
   "outputs": [
    {
     "data": {
      "text/plain": [
       "array([21402050808, 21402050811, 21402050814, 21402050815, 21402050816,\n",
       "       21402050818, 21402050821, 21402050822, 21402050823, 21402050824,\n",
       "       21402050825, 21402050826, 21402050809])"
      ]
     },
     "execution_count": 21,
     "metadata": {},
     "output_type": "execute_result"
    }
   ],
   "source": [
    "# watershed?\n",
    "# 13 items\n",
    "df.DNR12DIG.unique()"
   ]
  },
  {
   "cell_type": "code",
   "execution_count": 22,
   "metadata": {
    "collapsed": true
   },
   "outputs": [],
   "source": [
    "# four items in \"impervious\"\n",
    "imper = [1,2,3,14]\n",
    "per = [4,5,6,7,8,9,10,11,12,13,15,16]"
   ]
  },
  {
   "cell_type": "code",
   "execution_count": 23,
   "metadata": {},
   "outputs": [
    {
     "data": {
      "text/plain": [
       "(16, array([ 1,  2,  3,  4,  5,  6,  7,  8,  9, 10, 11, 12, 13, 14, 15, 16]))"
      ]
     },
     "execution_count": 23,
     "metadata": {},
     "output_type": "execute_result"
    }
   ],
   "source": [
    "len(df.gridcode.unique()), df.gridcode.unique()"
   ]
  },
  {
   "cell_type": "code",
   "execution_count": 24,
   "metadata": {},
   "outputs": [
    {
     "data": {
      "text/html": [
       "<div>\n",
       "<style>\n",
       "    .dataframe thead tr:only-child th {\n",
       "        text-align: right;\n",
       "    }\n",
       "\n",
       "    .dataframe thead th {\n",
       "        text-align: left;\n",
       "    }\n",
       "\n",
       "    .dataframe tbody tr th {\n",
       "        vertical-align: top;\n",
       "    }\n",
       "</style>\n",
       "<table border=\"1\" class=\"dataframe\">\n",
       "  <thead>\n",
       "    <tr style=\"text-align: right;\">\n",
       "      <th></th>\n",
       "      <th>OBJECTID</th>\n",
       "      <th>gridcode</th>\n",
       "      <th>DNR12DIG</th>\n",
       "      <th>Shape_Leng</th>\n",
       "      <th>Shape_Area</th>\n",
       "      <th>Acres</th>\n",
       "      <th>Land_Use</th>\n",
       "    </tr>\n",
       "  </thead>\n",
       "  <tbody>\n",
       "    <tr>\n",
       "      <th>count</th>\n",
       "      <td>173.000000</td>\n",
       "      <td>173.000000</td>\n",
       "      <td>1.730000e+02</td>\n",
       "      <td>1.730000e+02</td>\n",
       "      <td>1.730000e+02</td>\n",
       "      <td>173.000000</td>\n",
       "      <td>173.000000</td>\n",
       "    </tr>\n",
       "    <tr>\n",
       "      <th>mean</th>\n",
       "      <td>87.000000</td>\n",
       "      <td>8.375723</td>\n",
       "      <td>2.140205e+10</td>\n",
       "      <td>2.958211e+05</td>\n",
       "      <td>1.254462e+06</td>\n",
       "      <td>309.984252</td>\n",
       "      <td>8.375723</td>\n",
       "    </tr>\n",
       "    <tr>\n",
       "      <th>std</th>\n",
       "      <td>50.084928</td>\n",
       "      <td>4.694491</td>\n",
       "      <td>5.630087e+00</td>\n",
       "      <td>5.713652e+05</td>\n",
       "      <td>2.316974e+06</td>\n",
       "      <td>572.536806</td>\n",
       "      <td>4.694491</td>\n",
       "    </tr>\n",
       "    <tr>\n",
       "      <th>min</th>\n",
       "      <td>1.000000</td>\n",
       "      <td>1.000000</td>\n",
       "      <td>2.140205e+10</td>\n",
       "      <td>5.917650e+00</td>\n",
       "      <td>8.861815e-01</td>\n",
       "      <td>0.000219</td>\n",
       "      <td>1.000000</td>\n",
       "    </tr>\n",
       "    <tr>\n",
       "      <th>25%</th>\n",
       "      <td>44.000000</td>\n",
       "      <td>4.000000</td>\n",
       "      <td>2.140205e+10</td>\n",
       "      <td>1.436685e+04</td>\n",
       "      <td>1.093985e+05</td>\n",
       "      <td>27.032966</td>\n",
       "      <td>4.000000</td>\n",
       "    </tr>\n",
       "    <tr>\n",
       "      <th>50%</th>\n",
       "      <td>87.000000</td>\n",
       "      <td>8.000000</td>\n",
       "      <td>2.140205e+10</td>\n",
       "      <td>9.443931e+04</td>\n",
       "      <td>5.252815e+05</td>\n",
       "      <td>129.799890</td>\n",
       "      <td>8.000000</td>\n",
       "    </tr>\n",
       "    <tr>\n",
       "      <th>75%</th>\n",
       "      <td>130.000000</td>\n",
       "      <td>12.000000</td>\n",
       "      <td>2.140205e+10</td>\n",
       "      <td>3.191163e+05</td>\n",
       "      <td>1.338490e+06</td>\n",
       "      <td>330.748031</td>\n",
       "      <td>12.000000</td>\n",
       "    </tr>\n",
       "    <tr>\n",
       "      <th>max</th>\n",
       "      <td>173.000000</td>\n",
       "      <td>16.000000</td>\n",
       "      <td>2.140205e+10</td>\n",
       "      <td>3.700301e+06</td>\n",
       "      <td>1.918054e+07</td>\n",
       "      <td>4739.613796</td>\n",
       "      <td>16.000000</td>\n",
       "    </tr>\n",
       "  </tbody>\n",
       "</table>\n",
       "</div>"
      ],
      "text/plain": [
       "         OBJECTID    gridcode      DNR12DIG    Shape_Leng    Shape_Area  \\\n",
       "count  173.000000  173.000000  1.730000e+02  1.730000e+02  1.730000e+02   \n",
       "mean    87.000000    8.375723  2.140205e+10  2.958211e+05  1.254462e+06   \n",
       "std     50.084928    4.694491  5.630087e+00  5.713652e+05  2.316974e+06   \n",
       "min      1.000000    1.000000  2.140205e+10  5.917650e+00  8.861815e-01   \n",
       "25%     44.000000    4.000000  2.140205e+10  1.436685e+04  1.093985e+05   \n",
       "50%     87.000000    8.000000  2.140205e+10  9.443931e+04  5.252815e+05   \n",
       "75%    130.000000   12.000000  2.140205e+10  3.191163e+05  1.338490e+06   \n",
       "max    173.000000   16.000000  2.140205e+10  3.700301e+06  1.918054e+07   \n",
       "\n",
       "             Acres    Land_Use  \n",
       "count   173.000000  173.000000  \n",
       "mean    309.984252    8.375723  \n",
       "std     572.536806    4.694491  \n",
       "min       0.000219    1.000000  \n",
       "25%      27.032966    4.000000  \n",
       "50%     129.799890    8.000000  \n",
       "75%     330.748031   12.000000  \n",
       "max    4739.613796   16.000000  "
      ]
     },
     "execution_count": 24,
     "metadata": {},
     "output_type": "execute_result"
    }
   ],
   "source": [
    "df.describe()"
   ]
  },
  {
   "cell_type": "markdown",
   "metadata": {},
   "source": [
    "## calculate pollution"
   ]
  },
  {
   "cell_type": "code",
   "execution_count": 25,
   "metadata": {
    "collapsed": true
   },
   "outputs": [],
   "source": [
    "df['pollution'] = 0.\n",
    "\n",
    "for i in range(len(df)):\n",
    "    if df.iloc[i, 1] in imper:\n",
    "        df.set_value(i, 'pollution', df.iloc[i, 5]*(15.3+1.69+880))\n",
    "    else:\n",
    "        df.set_value(i, 'pollution', df.iloc[i, 5]*(10.8+0.43+140))"
   ]
  },
  {
   "cell_type": "code",
   "execution_count": 26,
   "metadata": {},
   "outputs": [
    {
     "data": {
      "text/html": [
       "<div>\n",
       "<style>\n",
       "    .dataframe thead tr:only-child th {\n",
       "        text-align: right;\n",
       "    }\n",
       "\n",
       "    .dataframe thead th {\n",
       "        text-align: left;\n",
       "    }\n",
       "\n",
       "    .dataframe tbody tr th {\n",
       "        vertical-align: top;\n",
       "    }\n",
       "</style>\n",
       "<table border=\"1\" class=\"dataframe\">\n",
       "  <thead>\n",
       "    <tr style=\"text-align: right;\">\n",
       "      <th></th>\n",
       "      <th>OBJECTID</th>\n",
       "      <th>gridcode</th>\n",
       "      <th>DNR12DIG</th>\n",
       "      <th>Shape_Leng</th>\n",
       "      <th>Shape_Area</th>\n",
       "      <th>Acres</th>\n",
       "      <th>Land_Use</th>\n",
       "      <th>pollution</th>\n",
       "    </tr>\n",
       "  </thead>\n",
       "  <tbody>\n",
       "    <tr>\n",
       "      <th>0</th>\n",
       "      <td>1</td>\n",
       "      <td>1</td>\n",
       "      <td>21402050808</td>\n",
       "      <td>142674.773634</td>\n",
       "      <td>5.530583e+05</td>\n",
       "      <td>136.663680</td>\n",
       "      <td>1</td>\n",
       "      <td>122585.954077</td>\n",
       "    </tr>\n",
       "    <tr>\n",
       "      <th>1</th>\n",
       "      <td>2</td>\n",
       "      <td>1</td>\n",
       "      <td>21402050811</td>\n",
       "      <td>131332.592450</td>\n",
       "      <td>4.578880e+05</td>\n",
       "      <td>113.146581</td>\n",
       "      <td>1</td>\n",
       "      <td>101491.351589</td>\n",
       "    </tr>\n",
       "    <tr>\n",
       "      <th>2</th>\n",
       "      <td>3</td>\n",
       "      <td>1</td>\n",
       "      <td>21402050814</td>\n",
       "      <td>85184.904369</td>\n",
       "      <td>3.494063e+05</td>\n",
       "      <td>86.340186</td>\n",
       "      <td>1</td>\n",
       "      <td>77446.283416</td>\n",
       "    </tr>\n",
       "    <tr>\n",
       "      <th>3</th>\n",
       "      <td>4</td>\n",
       "      <td>1</td>\n",
       "      <td>21402050815</td>\n",
       "      <td>195314.624017</td>\n",
       "      <td>8.061349e+05</td>\n",
       "      <td>199.200273</td>\n",
       "      <td>1</td>\n",
       "      <td>178680.652455</td>\n",
       "    </tr>\n",
       "    <tr>\n",
       "      <th>4</th>\n",
       "      <td>5</td>\n",
       "      <td>1</td>\n",
       "      <td>21402050816</td>\n",
       "      <td>416478.297400</td>\n",
       "      <td>2.083684e+06</td>\n",
       "      <td>514.889435</td>\n",
       "      <td>1</td>\n",
       "      <td>461850.674320</td>\n",
       "    </tr>\n",
       "  </tbody>\n",
       "</table>\n",
       "</div>"
      ],
      "text/plain": [
       "   OBJECTID  gridcode     DNR12DIG     Shape_Leng    Shape_Area       Acres  \\\n",
       "0         1         1  21402050808  142674.773634  5.530583e+05  136.663680   \n",
       "1         2         1  21402050811  131332.592450  4.578880e+05  113.146581   \n",
       "2         3         1  21402050814   85184.904369  3.494063e+05   86.340186   \n",
       "3         4         1  21402050815  195314.624017  8.061349e+05  199.200273   \n",
       "4         5         1  21402050816  416478.297400  2.083684e+06  514.889435   \n",
       "\n",
       "   Land_Use      pollution  \n",
       "0         1  122585.954077  \n",
       "1         1  101491.351589  \n",
       "2         1   77446.283416  \n",
       "3         1  178680.652455  \n",
       "4         1  461850.674320  "
      ]
     },
     "execution_count": 26,
     "metadata": {},
     "output_type": "execute_result"
    }
   ],
   "source": [
    "df.head()"
   ]
  },
  {
   "cell_type": "code",
   "execution_count": 27,
   "metadata": {
    "collapsed": true
   },
   "outputs": [],
   "source": [
    "df['total_N'] = 0.\n",
    "df['total_P'] = 0.\n",
    "df['total_S'] = 0.\n",
    "\n",
    "for i in range(len(df)):\n",
    "    if df.iloc[i, 1] in imper:\n",
    "        df.set_value(i, 'total_N', df.iloc[i, 5]*15.3)\n",
    "        df.set_value(i, 'total_P', df.iloc[i, 5]*1.69)\n",
    "        df.set_value(i, 'total_S', df.iloc[i, 5]*880)\n",
    "    else:\n",
    "        df.set_value(i, 'total_N', df.iloc[i, 5]*10.8)\n",
    "        df.set_value(i, 'total_P', df.iloc[i, 5]*0.43)\n",
    "        df.set_value(i, 'total_S', df.iloc[i, 5]*140)"
   ]
  },
  {
   "cell_type": "code",
   "execution_count": 28,
   "metadata": {},
   "outputs": [
    {
     "data": {
      "text/html": [
       "<div>\n",
       "<style>\n",
       "    .dataframe thead tr:only-child th {\n",
       "        text-align: right;\n",
       "    }\n",
       "\n",
       "    .dataframe thead th {\n",
       "        text-align: left;\n",
       "    }\n",
       "\n",
       "    .dataframe tbody tr th {\n",
       "        vertical-align: top;\n",
       "    }\n",
       "</style>\n",
       "<table border=\"1\" class=\"dataframe\">\n",
       "  <thead>\n",
       "    <tr style=\"text-align: right;\">\n",
       "      <th></th>\n",
       "      <th>OBJECTID</th>\n",
       "      <th>gridcode</th>\n",
       "      <th>DNR12DIG</th>\n",
       "      <th>Shape_Leng</th>\n",
       "      <th>Shape_Area</th>\n",
       "      <th>Acres</th>\n",
       "      <th>Land_Use</th>\n",
       "      <th>pollution</th>\n",
       "      <th>total_N</th>\n",
       "      <th>total_P</th>\n",
       "      <th>total_S</th>\n",
       "    </tr>\n",
       "  </thead>\n",
       "  <tbody>\n",
       "    <tr>\n",
       "      <th>0</th>\n",
       "      <td>1</td>\n",
       "      <td>1</td>\n",
       "      <td>21402050808</td>\n",
       "      <td>142674.773634</td>\n",
       "      <td>5.530583e+05</td>\n",
       "      <td>136.663680</td>\n",
       "      <td>1</td>\n",
       "      <td>122585.954077</td>\n",
       "      <td>2090.954300</td>\n",
       "      <td>230.961619</td>\n",
       "      <td>120264.038159</td>\n",
       "    </tr>\n",
       "    <tr>\n",
       "      <th>1</th>\n",
       "      <td>2</td>\n",
       "      <td>1</td>\n",
       "      <td>21402050811</td>\n",
       "      <td>131332.592450</td>\n",
       "      <td>4.578880e+05</td>\n",
       "      <td>113.146581</td>\n",
       "      <td>1</td>\n",
       "      <td>101491.351589</td>\n",
       "      <td>1731.142688</td>\n",
       "      <td>191.217722</td>\n",
       "      <td>99568.991180</td>\n",
       "    </tr>\n",
       "    <tr>\n",
       "      <th>2</th>\n",
       "      <td>3</td>\n",
       "      <td>1</td>\n",
       "      <td>21402050814</td>\n",
       "      <td>85184.904369</td>\n",
       "      <td>3.494063e+05</td>\n",
       "      <td>86.340186</td>\n",
       "      <td>1</td>\n",
       "      <td>77446.283416</td>\n",
       "      <td>1321.004845</td>\n",
       "      <td>145.914914</td>\n",
       "      <td>75979.363656</td>\n",
       "    </tr>\n",
       "    <tr>\n",
       "      <th>3</th>\n",
       "      <td>4</td>\n",
       "      <td>1</td>\n",
       "      <td>21402050815</td>\n",
       "      <td>195314.624017</td>\n",
       "      <td>8.061349e+05</td>\n",
       "      <td>199.200273</td>\n",
       "      <td>1</td>\n",
       "      <td>178680.652455</td>\n",
       "      <td>3047.764170</td>\n",
       "      <td>336.648461</td>\n",
       "      <td>175296.239825</td>\n",
       "    </tr>\n",
       "    <tr>\n",
       "      <th>4</th>\n",
       "      <td>5</td>\n",
       "      <td>1</td>\n",
       "      <td>21402050816</td>\n",
       "      <td>416478.297400</td>\n",
       "      <td>2.083684e+06</td>\n",
       "      <td>514.889435</td>\n",
       "      <td>1</td>\n",
       "      <td>461850.674320</td>\n",
       "      <td>7877.808356</td>\n",
       "      <td>870.163145</td>\n",
       "      <td>453102.702819</td>\n",
       "    </tr>\n",
       "  </tbody>\n",
       "</table>\n",
       "</div>"
      ],
      "text/plain": [
       "   OBJECTID  gridcode     DNR12DIG     Shape_Leng    Shape_Area       Acres  \\\n",
       "0         1         1  21402050808  142674.773634  5.530583e+05  136.663680   \n",
       "1         2         1  21402050811  131332.592450  4.578880e+05  113.146581   \n",
       "2         3         1  21402050814   85184.904369  3.494063e+05   86.340186   \n",
       "3         4         1  21402050815  195314.624017  8.061349e+05  199.200273   \n",
       "4         5         1  21402050816  416478.297400  2.083684e+06  514.889435   \n",
       "\n",
       "   Land_Use      pollution      total_N     total_P        total_S  \n",
       "0         1  122585.954077  2090.954300  230.961619  120264.038159  \n",
       "1         1  101491.351589  1731.142688  191.217722   99568.991180  \n",
       "2         1   77446.283416  1321.004845  145.914914   75979.363656  \n",
       "3         1  178680.652455  3047.764170  336.648461  175296.239825  \n",
       "4         1  461850.674320  7877.808356  870.163145  453102.702819  "
      ]
     },
     "execution_count": 28,
     "metadata": {},
     "output_type": "execute_result"
    }
   ],
   "source": [
    "df.head()"
   ]
  },
  {
   "cell_type": "code",
   "execution_count": 13,
   "metadata": {
    "collapsed": true
   },
   "outputs": [],
   "source": [
    "# to .csv\n",
    "# df.to_csv('CU-LU-Ana_claculated_03-30-2018.csv', index=False)"
   ]
  },
  {
   "cell_type": "markdown",
   "metadata": {},
   "source": [
    "## calculations based on watershed"
   ]
  },
  {
   "cell_type": "code",
   "execution_count": 29,
   "metadata": {},
   "outputs": [
    {
     "data": {
      "text/plain": [
       "(173, 11)"
      ]
     },
     "execution_count": 29,
     "metadata": {},
     "output_type": "execute_result"
    }
   ],
   "source": [
    "df.shape"
   ]
  },
  {
   "cell_type": "code",
   "execution_count": 30,
   "metadata": {},
   "outputs": [
    {
     "name": "stdout",
     "output_type": "stream",
     "text": [
      "                 DNR12DIG        total_N       total_P       total_S\n",
      "DNR12DIG                                                            \n",
      "21402050808  342432812928   22034.060108   1566.587347  7.203621e+05\n",
      "21402050809   21402050809       0.003350      0.000370  1.927026e-01\n",
      "21402050811  278226660543   19488.044495   1314.739969  5.924536e+05\n",
      "21402050814  321030762210   14111.935147   1049.878295  4.907163e+05\n",
      "21402050815  299628711410   39034.175239   2665.649969  1.207014e+06\n",
      "21402050816  299628711424   67510.836680   5187.541086  2.451610e+06\n",
      "21402050818  321030762270   61846.572976   4379.113344  2.010553e+06\n",
      "21402050821  278226660673   10154.924802    726.654512  3.349321e+05\n",
      "21402050822  342432813152  175583.737119  12203.652859  5.563738e+06\n",
      "21402050823  321030762345  101111.275482   4805.915192  1.802756e+06\n",
      "21402050824  321030762360   73757.712477   4685.093363  2.058838e+06\n",
      "21402050825  299628711550   40764.941269   2568.337824  1.124615e+06\n",
      "21402050826  256824609912   23044.593208   1301.670361  5.410069e+05\n"
     ]
    }
   ],
   "source": [
    "watersheds = df.groupby('DNR12DIG')['DNR12DIG', 'total_N', 'total_P', 'total_S'].sum()\n",
    "print(watersheds)"
   ]
  },
  {
   "cell_type": "code",
   "execution_count": 31,
   "metadata": {
    "collapsed": true
   },
   "outputs": [],
   "source": [
    "watersheds['watershed'] = watersheds.index"
   ]
  },
  {
   "cell_type": "code",
   "execution_count": 32,
   "metadata": {
    "collapsed": true
   },
   "outputs": [],
   "source": [
    "watersheds.drop('DNR12DIG', 1, inplace=True)"
   ]
  },
  {
   "cell_type": "code",
   "execution_count": 33,
   "metadata": {},
   "outputs": [
    {
     "name": "stdout",
     "output_type": "stream",
     "text": [
      "               watershed        total_N       total_P       total_S\n",
      "DNR12DIG                                                           \n",
      "21402050808  21402050808   22034.060108   1566.587347  7.203621e+05\n",
      "21402050809  21402050809       0.003350      0.000370  1.927026e-01\n",
      "21402050811  21402050811   19488.044495   1314.739969  5.924536e+05\n",
      "21402050814  21402050814   14111.935147   1049.878295  4.907163e+05\n",
      "21402050815  21402050815   39034.175239   2665.649969  1.207014e+06\n",
      "21402050816  21402050816   67510.836680   5187.541086  2.451610e+06\n",
      "21402050818  21402050818   61846.572976   4379.113344  2.010553e+06\n",
      "21402050821  21402050821   10154.924802    726.654512  3.349321e+05\n",
      "21402050822  21402050822  175583.737119  12203.652859  5.563738e+06\n",
      "21402050823  21402050823  101111.275482   4805.915192  1.802756e+06\n",
      "21402050824  21402050824   73757.712477   4685.093363  2.058838e+06\n",
      "21402050825  21402050825   40764.941269   2568.337824  1.124615e+06\n",
      "21402050826  21402050826   23044.593208   1301.670361  5.410069e+05\n"
     ]
    }
   ],
   "source": [
    "watersheds = watersheds[['watershed', 'total_N', 'total_P', 'total_S']]\n",
    "print(watersheds)"
   ]
  },
  {
   "cell_type": "code",
   "execution_count": 57,
   "metadata": {},
   "outputs": [
    {
     "data": {
      "text/html": [
       "<div>\n",
       "<style>\n",
       "    .dataframe thead tr:only-child th {\n",
       "        text-align: right;\n",
       "    }\n",
       "\n",
       "    .dataframe thead th {\n",
       "        text-align: left;\n",
       "    }\n",
       "\n",
       "    .dataframe tbody tr th {\n",
       "        vertical-align: top;\n",
       "    }\n",
       "</style>\n",
       "<table border=\"1\" class=\"dataframe\">\n",
       "  <thead>\n",
       "    <tr style=\"text-align: right;\">\n",
       "      <th></th>\n",
       "      <th>watershed</th>\n",
       "      <th>total_N</th>\n",
       "      <th>total_P</th>\n",
       "      <th>total_S</th>\n",
       "    </tr>\n",
       "  </thead>\n",
       "  <tbody>\n",
       "    <tr>\n",
       "      <th>count</th>\n",
       "      <td>1.300000e+01</td>\n",
       "      <td>13.000000</td>\n",
       "      <td>13.000000</td>\n",
       "      <td>1.300000e+01</td>\n",
       "    </tr>\n",
       "    <tr>\n",
       "      <th>mean</th>\n",
       "      <td>2.140205e+10</td>\n",
       "      <td>49880.216335</td>\n",
       "      <td>3265.756499</td>\n",
       "      <td>1.453738e+06</td>\n",
       "    </tr>\n",
       "    <tr>\n",
       "      <th>std</th>\n",
       "      <td>6.175842e+00</td>\n",
       "      <td>47797.869776</td>\n",
       "      <td>3196.684888</td>\n",
       "      <td>1.450870e+06</td>\n",
       "    </tr>\n",
       "    <tr>\n",
       "      <th>min</th>\n",
       "      <td>2.140205e+10</td>\n",
       "      <td>0.003350</td>\n",
       "      <td>0.000370</td>\n",
       "      <td>1.927026e-01</td>\n",
       "    </tr>\n",
       "    <tr>\n",
       "      <th>25%</th>\n",
       "      <td>2.140205e+10</td>\n",
       "      <td>19488.044495</td>\n",
       "      <td>1301.670361</td>\n",
       "      <td>5.410069e+05</td>\n",
       "    </tr>\n",
       "    <tr>\n",
       "      <th>50%</th>\n",
       "      <td>2.140205e+10</td>\n",
       "      <td>39034.175239</td>\n",
       "      <td>2568.337824</td>\n",
       "      <td>1.124615e+06</td>\n",
       "    </tr>\n",
       "    <tr>\n",
       "      <th>75%</th>\n",
       "      <td>2.140205e+10</td>\n",
       "      <td>67510.836680</td>\n",
       "      <td>4685.093363</td>\n",
       "      <td>2.010553e+06</td>\n",
       "    </tr>\n",
       "    <tr>\n",
       "      <th>max</th>\n",
       "      <td>2.140205e+10</td>\n",
       "      <td>175583.737119</td>\n",
       "      <td>12203.652859</td>\n",
       "      <td>5.563738e+06</td>\n",
       "    </tr>\n",
       "  </tbody>\n",
       "</table>\n",
       "</div>"
      ],
      "text/plain": [
       "          watershed        total_N       total_P       total_S\n",
       "count  1.300000e+01      13.000000     13.000000  1.300000e+01\n",
       "mean   2.140205e+10   49880.216335   3265.756499  1.453738e+06\n",
       "std    6.175842e+00   47797.869776   3196.684888  1.450870e+06\n",
       "min    2.140205e+10       0.003350      0.000370  1.927026e-01\n",
       "25%    2.140205e+10   19488.044495   1301.670361  5.410069e+05\n",
       "50%    2.140205e+10   39034.175239   2568.337824  1.124615e+06\n",
       "75%    2.140205e+10   67510.836680   4685.093363  2.010553e+06\n",
       "max    2.140205e+10  175583.737119  12203.652859  5.563738e+06"
      ]
     },
     "execution_count": 57,
     "metadata": {},
     "output_type": "execute_result"
    }
   ],
   "source": [
    "# to .csv\n",
    "# watersheds.to_csv('CU-LU-Ana_claculated_watersheds_04-05-2018.csv', index=False)\n",
    "watersheds.describe()"
   ]
  },
  {
   "cell_type": "code",
   "execution_count": 56,
   "metadata": {},
   "outputs": [
    {
     "data": {
      "text/plain": [
       "175583.73376811141"
      ]
     },
     "execution_count": 56,
     "metadata": {},
     "output_type": "execute_result"
    }
   ],
   "source": [
    "#value range for N\n",
    "(watersheds['total_N'].max())-(watersheds['total_N'].min())"
   ]
  },
  {
   "cell_type": "code",
   "execution_count": 53,
   "metadata": {},
   "outputs": [
    {
     "data": {
      "text/plain": [
       "12203.652488509881"
      ]
     },
     "execution_count": 53,
     "metadata": {},
     "output_type": "execute_result"
    }
   ],
   "source": [
    "#value range for P\n",
    "(watersheds['total_P'].max())-(watersheds['total_P'].min())"
   ]
  },
  {
   "cell_type": "code",
   "execution_count": 54,
   "metadata": {},
   "outputs": [
    {
     "data": {
      "text/plain": [
       "5563738.2140059574"
      ]
     },
     "execution_count": 54,
     "metadata": {},
     "output_type": "execute_result"
    }
   ],
   "source": [
    "#value range for S\n",
    "(watersheds['total_S'].max())-(watersheds['total_S'].min())"
   ]
  },
  {
   "cell_type": "code",
   "execution_count": 65,
   "metadata": {
    "collapsed": true
   },
   "outputs": [],
   "source": [
    "import numpy as np\n",
    "import matplotlib.pyplot as plt\n",
    "import "
   ]
  },
  {
   "cell_type": "code",
   "execution_count": 74,
   "metadata": {},
   "outputs": [
    {
     "data": {
      "image/png": "[encoded data removed]",
      "text/plain": [
       "<matplotlib.figure.Figure at 0x10ef87358>"
      ]
     },
     "metadata": {},
     "output_type": "display_data"
    }
   ],
   "source": [
    "#df.set_index([[1, 2, 3, 4, 5, 6, 7, 8, 9, 10, 11, 12, 13], 'watershed'])\n",
    "\n",
    "#plt.plot(df.total_N)\n",
    "#plt.show()\n",
    "\n"
   ]
  },
  {
   "cell_type": "code",
   "execution_count": 82,
   "metadata": {},
   "outputs": [
    {
     "data": {
      "image/png": "[encoded data removed]",
      "text/plain": [
       "<matplotlib.figure.Figure at 0x1178d39e8>"
      ]
     },
     "metadata": {},
     "output_type": "display_data"
    }
   ],
   "source": [
    "x = watersheds.watershed\n",
    "y = watersheds.total_N\n",
    "#df.plot.scatter(x,y)\n",
    "plt.hist(y)\n",
    "plt.show()"
   ]
  },
  {
   "cell_type": "code",
   "execution_count": 79,
   "metadata": {},
   "outputs": [
    {
     "data": {
      "image/png": "[encoded data removed]",
      "text/plain": [
       "<matplotlib.figure.Figure at 0x1176be320>"
      ]
     },
     "metadata": {},
     "output_type": "display_data"
    }
   ],
   "source": [
    "y = watersheds.total_P\n",
    "plt.hist(y)\n",
    "plt.show()"
   ]
  },
  {
   "cell_type": "code",
   "execution_count": 80,
   "metadata": {},
   "outputs": [
    {
     "data": {
      "image/png": "[encoded data removed]",
      "text/plain": [
       "<matplotlib.figure.Figure at 0x1177c3588>"
      ]
     },
     "metadata": {},
     "output_type": "display_data"
    }
   ],
   "source": [
    "y = watersheds.total_S\n",
    "plt.hist(y)\n",
    "plt.show()"
   ]
  },
  {
   "cell_type": "code",
   "execution_count": null,
   "metadata": {
    "collapsed": true
   },
   "outputs": [],
   "source": []
  },
  {
   "cell_type": "code",
   "execution_count": null,
   "metadata": {
    "collapsed": true
   },
   "outputs": [],
   "source": []
  },
  {
   "cell_type": "code",
   "execution_count": null,
   "metadata": {
    "collapsed": true
   },
   "outputs": [],
   "source": []
  },
  {
   "cell_type": "code",
   "execution_count": 15,
   "metadata": {
    "collapsed": true
   },
   "outputs": [],
   "source": [
    "frame = [df, df2]"
   ]
  },
  {
   "cell_type": "code",
   "execution_count": 16,
   "metadata": {
    "collapsed": true
   },
   "outputs": [],
   "source": [
    "df3 = pd.concat(frame)"
   ]
  },
  {
   "cell_type": "code",
   "execution_count": 19,
   "metadata": {},
   "outputs": [
    {
     "data": {
      "text/html": [
       "<div>\n",
       "<style>\n",
       "    .dataframe thead tr:only-child th {\n",
       "        text-align: right;\n",
       "    }\n",
       "\n",
       "    .dataframe thead th {\n",
       "        text-align: left;\n",
       "    }\n",
       "\n",
       "    .dataframe tbody tr th {\n",
       "        vertical-align: top;\n",
       "    }\n",
       "</style>\n",
       "<table border=\"1\" class=\"dataframe\">\n",
       "  <thead>\n",
       "    <tr style=\"text-align: right;\">\n",
       "      <th></th>\n",
       "      <th>Acres</th>\n",
       "      <th>CBI</th>\n",
       "      <th>DNR12DIG</th>\n",
       "      <th>HUA11</th>\n",
       "      <th>HUA14</th>\n",
       "      <th>HUA8</th>\n",
       "      <th>IMPRT_DATE</th>\n",
       "      <th>Land_Use</th>\n",
       "      <th>MDE6DIGT</th>\n",
       "      <th>MDE6NAME</th>\n",
       "      <th>MDE8DIGT</th>\n",
       "      <th>MDE8NAME</th>\n",
       "      <th>OBJECTID</th>\n",
       "      <th>OBJECTID_1</th>\n",
       "      <th>SHAPE_AREA</th>\n",
       "      <th>SHAPE_LEN</th>\n",
       "      <th>STRANAME</th>\n",
       "      <th>Shape_Area</th>\n",
       "      <th>Shape_Leng</th>\n",
       "      <th>gridcode</th>\n",
       "    </tr>\n",
       "  </thead>\n",
       "  <tbody>\n",
       "    <tr>\n",
       "      <th>0</th>\n",
       "      <td>136.663680</td>\n",
       "      <td>NaN</td>\n",
       "      <td>21402050808</td>\n",
       "      <td>NaN</td>\n",
       "      <td>NaN</td>\n",
       "      <td>NaN</td>\n",
       "      <td>NaT</td>\n",
       "      <td>1.0</td>\n",
       "      <td>NaN</td>\n",
       "      <td>NaN</td>\n",
       "      <td>NaN</td>\n",
       "      <td>NaN</td>\n",
       "      <td>1</td>\n",
       "      <td>NaN</td>\n",
       "      <td>NaN</td>\n",
       "      <td>NaN</td>\n",
       "      <td>NaN</td>\n",
       "      <td>5.530583e+05</td>\n",
       "      <td>142674.773634</td>\n",
       "      <td>1.0</td>\n",
       "    </tr>\n",
       "    <tr>\n",
       "      <th>1</th>\n",
       "      <td>113.146581</td>\n",
       "      <td>NaN</td>\n",
       "      <td>21402050811</td>\n",
       "      <td>NaN</td>\n",
       "      <td>NaN</td>\n",
       "      <td>NaN</td>\n",
       "      <td>NaT</td>\n",
       "      <td>1.0</td>\n",
       "      <td>NaN</td>\n",
       "      <td>NaN</td>\n",
       "      <td>NaN</td>\n",
       "      <td>NaN</td>\n",
       "      <td>2</td>\n",
       "      <td>NaN</td>\n",
       "      <td>NaN</td>\n",
       "      <td>NaN</td>\n",
       "      <td>NaN</td>\n",
       "      <td>4.578880e+05</td>\n",
       "      <td>131332.592450</td>\n",
       "      <td>1.0</td>\n",
       "    </tr>\n",
       "    <tr>\n",
       "      <th>2</th>\n",
       "      <td>86.340186</td>\n",
       "      <td>NaN</td>\n",
       "      <td>21402050814</td>\n",
       "      <td>NaN</td>\n",
       "      <td>NaN</td>\n",
       "      <td>NaN</td>\n",
       "      <td>NaT</td>\n",
       "      <td>1.0</td>\n",
       "      <td>NaN</td>\n",
       "      <td>NaN</td>\n",
       "      <td>NaN</td>\n",
       "      <td>NaN</td>\n",
       "      <td>3</td>\n",
       "      <td>NaN</td>\n",
       "      <td>NaN</td>\n",
       "      <td>NaN</td>\n",
       "      <td>NaN</td>\n",
       "      <td>3.494063e+05</td>\n",
       "      <td>85184.904369</td>\n",
       "      <td>1.0</td>\n",
       "    </tr>\n",
       "    <tr>\n",
       "      <th>3</th>\n",
       "      <td>199.200273</td>\n",
       "      <td>NaN</td>\n",
       "      <td>21402050815</td>\n",
       "      <td>NaN</td>\n",
       "      <td>NaN</td>\n",
       "      <td>NaN</td>\n",
       "      <td>NaT</td>\n",
       "      <td>1.0</td>\n",
       "      <td>NaN</td>\n",
       "      <td>NaN</td>\n",
       "      <td>NaN</td>\n",
       "      <td>NaN</td>\n",
       "      <td>4</td>\n",
       "      <td>NaN</td>\n",
       "      <td>NaN</td>\n",
       "      <td>NaN</td>\n",
       "      <td>NaN</td>\n",
       "      <td>8.061349e+05</td>\n",
       "      <td>195314.624017</td>\n",
       "      <td>1.0</td>\n",
       "    </tr>\n",
       "    <tr>\n",
       "      <th>4</th>\n",
       "      <td>514.889435</td>\n",
       "      <td>NaN</td>\n",
       "      <td>21402050816</td>\n",
       "      <td>NaN</td>\n",
       "      <td>NaN</td>\n",
       "      <td>NaN</td>\n",
       "      <td>NaT</td>\n",
       "      <td>1.0</td>\n",
       "      <td>NaN</td>\n",
       "      <td>NaN</td>\n",
       "      <td>NaN</td>\n",
       "      <td>NaN</td>\n",
       "      <td>5</td>\n",
       "      <td>NaN</td>\n",
       "      <td>NaN</td>\n",
       "      <td>NaN</td>\n",
       "      <td>NaN</td>\n",
       "      <td>2.083684e+06</td>\n",
       "      <td>416478.297400</td>\n",
       "      <td>1.0</td>\n",
       "    </tr>\n",
       "  </tbody>\n",
       "</table>\n",
       "</div>"
      ],
      "text/plain": [
       "        Acres  CBI     DNR12DIG  HUA11  HUA14  HUA8 IMPRT_DATE  Land_Use  \\\n",
       "0  136.663680  NaN  21402050808    NaN    NaN   NaN        NaT       1.0   \n",
       "1  113.146581  NaN  21402050811    NaN    NaN   NaN        NaT       1.0   \n",
       "2   86.340186  NaN  21402050814    NaN    NaN   NaN        NaT       1.0   \n",
       "3  199.200273  NaN  21402050815    NaN    NaN   NaN        NaT       1.0   \n",
       "4  514.889435  NaN  21402050816    NaN    NaN   NaN        NaT       1.0   \n",
       "\n",
       "   MDE6DIGT MDE6NAME  MDE8DIGT MDE8NAME  OBJECTID  OBJECTID_1  SHAPE_AREA  \\\n",
       "0       NaN      NaN       NaN      NaN         1         NaN         NaN   \n",
       "1       NaN      NaN       NaN      NaN         2         NaN         NaN   \n",
       "2       NaN      NaN       NaN      NaN         3         NaN         NaN   \n",
       "3       NaN      NaN       NaN      NaN         4         NaN         NaN   \n",
       "4       NaN      NaN       NaN      NaN         5         NaN         NaN   \n",
       "\n",
       "   SHAPE_LEN STRANAME    Shape_Area     Shape_Leng  gridcode  \n",
       "0        NaN      NaN  5.530583e+05  142674.773634       1.0  \n",
       "1        NaN      NaN  4.578880e+05  131332.592450       1.0  \n",
       "2        NaN      NaN  3.494063e+05   85184.904369       1.0  \n",
       "3        NaN      NaN  8.061349e+05  195314.624017       1.0  \n",
       "4        NaN      NaN  2.083684e+06  416478.297400       1.0  "
      ]
     },
     "execution_count": 19,
     "metadata": {},
     "output_type": "execute_result"
    }
   ],
   "source": [
    "df3.head()"
   ]
  },
  {
   "cell_type": "code",
   "execution_count": null,
   "metadata": {
    "collapsed": true
   },
   "outputs": [],
   "source": []
  }
 ],
 "metadata": {
  "kernelspec": {
   "display_name": "Python 3",
   "language": "python",
   "name": "python3"
  },
  "language_info": {
   "codemirror_mode": {
    "name": "ipython",
    "version": 3
   },
   "file_extension": ".py",
   "mimetype": "text/x-python",
   "name": "python",
   "nbconvert_exporter": "python",
   "pygments_lexer": "ipython3",
   "version": "3.6.2"
  }
 },
 "nbformat": 4,
 "nbformat_minor": 2
}
